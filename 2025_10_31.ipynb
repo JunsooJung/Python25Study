{
  "nbformat": 4,
  "nbformat_minor": 0,
  "metadata": {
    "colab": {
      "provenance": [],
      "authorship_tag": "ABX9TyP3ZWDF+n73kl7/zLAJACmC",
      "include_colab_link": true
    },
    "kernelspec": {
      "name": "python3",
      "display_name": "Python 3"
    },
    "language_info": {
      "name": "python"
    }
  },
  "cells": [
    {
      "cell_type": "markdown",
      "metadata": {
        "id": "view-in-github",
        "colab_type": "text"
      },
      "source": [
        "<a href=\"https://colab.research.google.com/github/JunsooJung/Python25Study/blob/main/2025_10_31.ipynb\" target=\"_parent\"><img src=\"https://colab.research.google.com/assets/colab-badge.svg\" alt=\"Open In Colab\"/></a>"
      ]
    },
    {
      "cell_type": "markdown",
      "source": [
        "# if 문"
      ],
      "metadata": {
        "id": "Xtwl_3bn7i3Z"
      }
    },
    {
      "cell_type": "code",
      "source": [
        "math = 90\n",
        "eng = 88\n",
        "kor = 92\n",
        "avg = (math + eng + kor) / 3\n",
        "if avg >= 90:\n",
        "    print(\"A\")\n",
        "elif avg >= 80:\n",
        "    print(\"B\")\n",
        "elif avg >= 70:\n",
        "    print(\"C\")\n",
        "else:\n",
        "    print(\"F\")"
      ],
      "metadata": {
        "colab": {
          "base_uri": "https://localhost:8080/"
        },
        "id": "G7wdDx087lUA",
        "outputId": "9fcfc9f6-c13b-4d1b-e452-726c9c5d8eeb"
      },
      "execution_count": 1,
      "outputs": [
        {
          "output_type": "stream",
          "name": "stdout",
          "text": [
            "A\n"
          ]
        }
      ]
    },
    {
      "cell_type": "code",
      "source": [
        "import random\n",
        "\n",
        "distance = random.randint(1,15)\n",
        "\n",
        "if distance >= 10:\n",
        "  print(\"run\")\n",
        "else:\n",
        "  print(\"walk\")"
      ],
      "metadata": {
        "colab": {
          "base_uri": "https://localhost:8080/"
        },
        "id": "cD9_Nt9g72mp",
        "outputId": "00e68fa0-14f7-4060-a91f-9fd18278083e"
      },
      "execution_count": 3,
      "outputs": [
        {
          "output_type": "stream",
          "name": "stdout",
          "text": [
            "walk\n"
          ]
        }
      ]
    },
    {
      "cell_type": "code",
      "source": [
        "if random.randint(1,15) == 7:\n",
        "  print(\"Jackpot\")\n",
        "else:\n",
        "  print(\"fail\")"
      ],
      "metadata": {
        "colab": {
          "base_uri": "https://localhost:8080/"
        },
        "id": "Xx-6weTS8Vr7",
        "outputId": "a3981bdf-0941-4e6b-949a-72d3ce65cab9"
      },
      "execution_count": 7,
      "outputs": [
        {
          "output_type": "stream",
          "name": "stdout",
          "text": [
            "fail\n"
          ]
        }
      ]
    },
    {
      "cell_type": "code",
      "source": [
        "if random.randint(0,6) + random.randint(0,6) == 7:\n",
        "  print(\"Jackpot\")\n",
        "else:\n",
        "  print(\"fail\")"
      ],
      "metadata": {
        "colab": {
          "base_uri": "https://localhost:8080/"
        },
        "id": "2KYcmYWo8hCa",
        "outputId": "422ba31d-6aec-481e-800f-572ea99ff003"
      },
      "execution_count": 8,
      "outputs": [
        {
          "output_type": "stream",
          "name": "stdout",
          "text": [
            "fail\n"
          ]
        }
      ]
    },
    {
      "cell_type": "markdown",
      "source": [
        "#While문\n"
      ],
      "metadata": {
        "id": "5LqGTCbL81zL"
      }
    },
    {
      "cell_type": "code",
      "source": [
        "import random\n",
        "\n",
        "tiredness = 0\n",
        "fatigue = 0\n",
        "willpower = 100\n",
        "\n",
        "work = 0\n",
        "\n",
        "while tiredness < 50 and fatigue < 50:\n",
        "  tiredness += random.randint(0,5)\n",
        "  fatigue += random.randint(0,5)\n",
        "  willpower -= random.randint(0,5)\n",
        "  work += random.randint(0,5)\n",
        "\n",
        "  if willpower >= 50 and random.randint(1,10)>=8:\n",
        "    print(\"Booster!\")\n",
        "    willpower-=random.randint(0,8)\n",
        "    work += random.randint(0,15)\n",
        "  if random.randint(1,99) == (6 or 66):\n",
        "    print(\"ZONE OUT!\")\n",
        "    break\n",
        "\n",
        "  print(\"Current Status = Tiredness : \"+ str(tiredness) +\", Fatigue :\"+str(fatigue)+\", Will power : \"+str(willpower) + \", Work process :\"+ str(work))"
      ],
      "metadata": {
        "colab": {
          "base_uri": "https://localhost:8080/"
        },
        "id": "p-IkeWR683Lh",
        "outputId": "6ade3594-4477-4aa8-99c9-89525440aa04"
      },
      "execution_count": 13,
      "outputs": [
        {
          "output_type": "stream",
          "name": "stdout",
          "text": [
            "Current Status = Tiredness : 5, Fatigue :3, Will power : 99, Work process :0\n",
            "Current Status = Tiredness : 8, Fatigue :7, Will power : 98, Work process :1\n",
            "Current Status = Tiredness : 12, Fatigue :10, Will power : 96, Work process :1\n",
            "Current Status = Tiredness : 12, Fatigue :14, Will power : 96, Work process :4\n",
            "Current Status = Tiredness : 17, Fatigue :15, Will power : 95, Work process :6\n",
            "Booster!\n",
            "Current Status = Tiredness : 17, Fatigue :19, Will power : 88, Work process :10\n",
            "Booster!\n",
            "Current Status = Tiredness : 18, Fatigue :21, Will power : 85, Work process :24\n",
            "Current Status = Tiredness : 21, Fatigue :21, Will power : 80, Work process :25\n",
            "Current Status = Tiredness : 21, Fatigue :25, Will power : 79, Work process :26\n",
            "Booster!\n",
            "Current Status = Tiredness : 26, Fatigue :27, Will power : 71, Work process :40\n",
            "Booster!\n",
            "Current Status = Tiredness : 28, Fatigue :31, Will power : 58, Work process :46\n",
            "Current Status = Tiredness : 33, Fatigue :31, Will power : 55, Work process :50\n",
            "Current Status = Tiredness : 34, Fatigue :32, Will power : 52, Work process :55\n",
            "Current Status = Tiredness : 34, Fatigue :36, Will power : 48, Work process :59\n",
            "Current Status = Tiredness : 38, Fatigue :41, Will power : 46, Work process :59\n",
            "Current Status = Tiredness : 40, Fatigue :41, Will power : 44, Work process :59\n",
            "Current Status = Tiredness : 41, Fatigue :42, Will power : 41, Work process :63\n",
            "Current Status = Tiredness : 42, Fatigue :45, Will power : 38, Work process :68\n",
            "Current Status = Tiredness : 44, Fatigue :49, Will power : 34, Work process :69\n",
            "Current Status = Tiredness : 44, Fatigue :50, Will power : 29, Work process :71\n"
          ]
        }
      ]
    },
    {
      "cell_type": "markdown",
      "source": [
        "#for문"
      ],
      "metadata": {
        "id": "BtY6p5dQ-GXr"
      }
    },
    {
      "cell_type": "code",
      "source": [
        "for i in range(30):\n",
        "  print(\"면접수당신청\")\n",
        "  a = random.randint(0,i)\n",
        "  if a >= 10:\n",
        "    print(\"최대한도 도달\")\n",
        "    break;"
      ],
      "metadata": {
        "colab": {
          "base_uri": "https://localhost:8080/"
        },
        "id": "y_FM4OCt-Htj",
        "outputId": "9e753405-e42d-43cf-bae9-f494f9944c90"
      },
      "execution_count": 15,
      "outputs": [
        {
          "output_type": "stream",
          "name": "stdout",
          "text": [
            "면접수당신청\n",
            "면접수당신청\n",
            "면접수당신청\n",
            "면접수당신청\n",
            "면접수당신청\n",
            "면접수당신청\n",
            "면접수당신청\n",
            "면접수당신청\n",
            "면접수당신청\n",
            "면접수당신청\n",
            "면접수당신청\n",
            "면접수당신청\n",
            "면접수당신청\n",
            "최대한도 도달\n"
          ]
        }
      ]
    },
    {
      "cell_type": "code",
      "source": [
        "3 + None"
      ],
      "metadata": {
        "colab": {
          "base_uri": "https://localhost:8080/",
          "height": 202
        },
        "id": "CZZ38vemGR4-",
        "outputId": "7cc55aba-6561-443e-e1d1-0970417529e2"
      },
      "execution_count": 3,
      "outputs": [
        {
          "output_type": "error",
          "ename": "TypeError",
          "evalue": "unsupported operand type(s) for +: 'int' and 'NoneType'",
          "traceback": [
            "\u001b[0;31m---------------------------------------------------------------------------\u001b[0m",
            "\u001b[0;31mTypeError\u001b[0m                                 Traceback (most recent call last)",
            "\u001b[0;32m/tmp/ipython-input-4105857319.py\u001b[0m in \u001b[0;36m<cell line: 0>\u001b[0;34m()\u001b[0m\n\u001b[0;32m----> 1\u001b[0;31m \u001b[0;36m3\u001b[0m \u001b[0;34m+\u001b[0m \u001b[0;32mNone\u001b[0m\u001b[0;34m\u001b[0m\u001b[0;34m\u001b[0m\u001b[0m\n\u001b[0m",
            "\u001b[0;31mTypeError\u001b[0m: unsupported operand type(s) for +: 'int' and 'NoneType'"
          ]
        }
      ]
    },
    {
      "cell_type": "markdown",
      "source": [
        "#함수\n"
      ],
      "metadata": {
        "id": "GUUwdxxBvZ08"
      }
    },
    {
      "cell_type": "code",
      "source": [
        "import pandas as pd\n",
        "\n",
        "def db_load(loc):\n",
        "  df = pd.read_csv(loc)\n",
        "  return df\n",
        "\n",
        "db_load(\"countries.csv\")"
      ],
      "metadata": {
        "colab": {
          "base_uri": "https://localhost:8080/",
          "height": 478
        },
        "id": "QtvKue2Yvari",
        "outputId": "3565e7af-120d-4f5a-b673-5d1253ee1372"
      },
      "execution_count": 4,
      "outputs": [
        {
          "output_type": "execute_result",
          "data": {
            "text/plain": [
              "     Unnamed: 0  country_id          name       area national_day  \\\n",
              "0             0           1         Aruba      193.0          NaN   \n",
              "1             1           2   Afghanistan   652090.0   1919-08-19   \n",
              "2             2           3        Angola  1246700.0   1975-11-11   \n",
              "3             3           4      Anguilla       96.0   1967-05-30   \n",
              "4             4           5       Albania    28748.0   1912-11-28   \n",
              "..          ...         ...           ...        ...          ...   \n",
              "234         234         235         Yemen   527968.0   1967-11-30   \n",
              "235         235         236    Yugoslavia   102173.0          NaN   \n",
              "236         236         237  South Africa  1221037.0   1931-12-11   \n",
              "237         237         238        Zambia   752618.0   1964-10-24   \n",
              "238         238         239      Zimbabwe   390757.0   1980-04-18   \n",
              "\n",
              "    country_code2 country_code3  region_id  \n",
              "0              AW           ABW          1  \n",
              "1              AF           AFG          2  \n",
              "2              AO           AGO          3  \n",
              "3              AI           AIA          1  \n",
              "4              AL           ALB          4  \n",
              "..            ...           ...        ...  \n",
              "234            YE           YEM          5  \n",
              "235            YU           YUG          4  \n",
              "236            ZA           ZAF         17  \n",
              "237            ZM           ZMB         11  \n",
              "238            ZW           ZWE         11  \n",
              "\n",
              "[239 rows x 8 columns]"
            ],
            "text/html": [
              "\n",
              "  <div id=\"df-835edc6e-657c-4829-9462-33a12b815b22\" class=\"colab-df-container\">\n",
              "    <div>\n",
              "<style scoped>\n",
              "    .dataframe tbody tr th:only-of-type {\n",
              "        vertical-align: middle;\n",
              "    }\n",
              "\n",
              "    .dataframe tbody tr th {\n",
              "        vertical-align: top;\n",
              "    }\n",
              "\n",
              "    .dataframe thead th {\n",
              "        text-align: right;\n",
              "    }\n",
              "</style>\n",
              "<table border=\"1\" class=\"dataframe\">\n",
              "  <thead>\n",
              "    <tr style=\"text-align: right;\">\n",
              "      <th></th>\n",
              "      <th>Unnamed: 0</th>\n",
              "      <th>country_id</th>\n",
              "      <th>name</th>\n",
              "      <th>area</th>\n",
              "      <th>national_day</th>\n",
              "      <th>country_code2</th>\n",
              "      <th>country_code3</th>\n",
              "      <th>region_id</th>\n",
              "    </tr>\n",
              "  </thead>\n",
              "  <tbody>\n",
              "    <tr>\n",
              "      <th>0</th>\n",
              "      <td>0</td>\n",
              "      <td>1</td>\n",
              "      <td>Aruba</td>\n",
              "      <td>193.0</td>\n",
              "      <td>NaN</td>\n",
              "      <td>AW</td>\n",
              "      <td>ABW</td>\n",
              "      <td>1</td>\n",
              "    </tr>\n",
              "    <tr>\n",
              "      <th>1</th>\n",
              "      <td>1</td>\n",
              "      <td>2</td>\n",
              "      <td>Afghanistan</td>\n",
              "      <td>652090.0</td>\n",
              "      <td>1919-08-19</td>\n",
              "      <td>AF</td>\n",
              "      <td>AFG</td>\n",
              "      <td>2</td>\n",
              "    </tr>\n",
              "    <tr>\n",
              "      <th>2</th>\n",
              "      <td>2</td>\n",
              "      <td>3</td>\n",
              "      <td>Angola</td>\n",
              "      <td>1246700.0</td>\n",
              "      <td>1975-11-11</td>\n",
              "      <td>AO</td>\n",
              "      <td>AGO</td>\n",
              "      <td>3</td>\n",
              "    </tr>\n",
              "    <tr>\n",
              "      <th>3</th>\n",
              "      <td>3</td>\n",
              "      <td>4</td>\n",
              "      <td>Anguilla</td>\n",
              "      <td>96.0</td>\n",
              "      <td>1967-05-30</td>\n",
              "      <td>AI</td>\n",
              "      <td>AIA</td>\n",
              "      <td>1</td>\n",
              "    </tr>\n",
              "    <tr>\n",
              "      <th>4</th>\n",
              "      <td>4</td>\n",
              "      <td>5</td>\n",
              "      <td>Albania</td>\n",
              "      <td>28748.0</td>\n",
              "      <td>1912-11-28</td>\n",
              "      <td>AL</td>\n",
              "      <td>ALB</td>\n",
              "      <td>4</td>\n",
              "    </tr>\n",
              "    <tr>\n",
              "      <th>...</th>\n",
              "      <td>...</td>\n",
              "      <td>...</td>\n",
              "      <td>...</td>\n",
              "      <td>...</td>\n",
              "      <td>...</td>\n",
              "      <td>...</td>\n",
              "      <td>...</td>\n",
              "      <td>...</td>\n",
              "    </tr>\n",
              "    <tr>\n",
              "      <th>234</th>\n",
              "      <td>234</td>\n",
              "      <td>235</td>\n",
              "      <td>Yemen</td>\n",
              "      <td>527968.0</td>\n",
              "      <td>1967-11-30</td>\n",
              "      <td>YE</td>\n",
              "      <td>YEM</td>\n",
              "      <td>5</td>\n",
              "    </tr>\n",
              "    <tr>\n",
              "      <th>235</th>\n",
              "      <td>235</td>\n",
              "      <td>236</td>\n",
              "      <td>Yugoslavia</td>\n",
              "      <td>102173.0</td>\n",
              "      <td>NaN</td>\n",
              "      <td>YU</td>\n",
              "      <td>YUG</td>\n",
              "      <td>4</td>\n",
              "    </tr>\n",
              "    <tr>\n",
              "      <th>236</th>\n",
              "      <td>236</td>\n",
              "      <td>237</td>\n",
              "      <td>South Africa</td>\n",
              "      <td>1221037.0</td>\n",
              "      <td>1931-12-11</td>\n",
              "      <td>ZA</td>\n",
              "      <td>ZAF</td>\n",
              "      <td>17</td>\n",
              "    </tr>\n",
              "    <tr>\n",
              "      <th>237</th>\n",
              "      <td>237</td>\n",
              "      <td>238</td>\n",
              "      <td>Zambia</td>\n",
              "      <td>752618.0</td>\n",
              "      <td>1964-10-24</td>\n",
              "      <td>ZM</td>\n",
              "      <td>ZMB</td>\n",
              "      <td>11</td>\n",
              "    </tr>\n",
              "    <tr>\n",
              "      <th>238</th>\n",
              "      <td>238</td>\n",
              "      <td>239</td>\n",
              "      <td>Zimbabwe</td>\n",
              "      <td>390757.0</td>\n",
              "      <td>1980-04-18</td>\n",
              "      <td>ZW</td>\n",
              "      <td>ZWE</td>\n",
              "      <td>11</td>\n",
              "    </tr>\n",
              "  </tbody>\n",
              "</table>\n",
              "<p>239 rows × 8 columns</p>\n",
              "</div>\n",
              "    <div class=\"colab-df-buttons\">\n",
              "\n",
              "  <div class=\"colab-df-container\">\n",
              "    <button class=\"colab-df-convert\" onclick=\"convertToInteractive('df-835edc6e-657c-4829-9462-33a12b815b22')\"\n",
              "            title=\"Convert this dataframe to an interactive table.\"\n",
              "            style=\"display:none;\">\n",
              "\n",
              "  <svg xmlns=\"http://www.w3.org/2000/svg\" height=\"24px\" viewBox=\"0 -960 960 960\">\n",
              "    <path d=\"M120-120v-720h720v720H120Zm60-500h600v-160H180v160Zm220 220h160v-160H400v160Zm0 220h160v-160H400v160ZM180-400h160v-160H180v160Zm440 0h160v-160H620v160ZM180-180h160v-160H180v160Zm440 0h160v-160H620v160Z\"/>\n",
              "  </svg>\n",
              "    </button>\n",
              "\n",
              "  <style>\n",
              "    .colab-df-container {\n",
              "      display:flex;\n",
              "      gap: 12px;\n",
              "    }\n",
              "\n",
              "    .colab-df-convert {\n",
              "      background-color: #E8F0FE;\n",
              "      border: none;\n",
              "      border-radius: 50%;\n",
              "      cursor: pointer;\n",
              "      display: none;\n",
              "      fill: #1967D2;\n",
              "      height: 32px;\n",
              "      padding: 0 0 0 0;\n",
              "      width: 32px;\n",
              "    }\n",
              "\n",
              "    .colab-df-convert:hover {\n",
              "      background-color: #E2EBFA;\n",
              "      box-shadow: 0px 1px 2px rgba(60, 64, 67, 0.3), 0px 1px 3px 1px rgba(60, 64, 67, 0.15);\n",
              "      fill: #174EA6;\n",
              "    }\n",
              "\n",
              "    .colab-df-buttons div {\n",
              "      margin-bottom: 4px;\n",
              "    }\n",
              "\n",
              "    [theme=dark] .colab-df-convert {\n",
              "      background-color: #3B4455;\n",
              "      fill: #D2E3FC;\n",
              "    }\n",
              "\n",
              "    [theme=dark] .colab-df-convert:hover {\n",
              "      background-color: #434B5C;\n",
              "      box-shadow: 0px 1px 3px 1px rgba(0, 0, 0, 0.15);\n",
              "      filter: drop-shadow(0px 1px 2px rgba(0, 0, 0, 0.3));\n",
              "      fill: #FFFFFF;\n",
              "    }\n",
              "  </style>\n",
              "\n",
              "    <script>\n",
              "      const buttonEl =\n",
              "        document.querySelector('#df-835edc6e-657c-4829-9462-33a12b815b22 button.colab-df-convert');\n",
              "      buttonEl.style.display =\n",
              "        google.colab.kernel.accessAllowed ? 'block' : 'none';\n",
              "\n",
              "      async function convertToInteractive(key) {\n",
              "        const element = document.querySelector('#df-835edc6e-657c-4829-9462-33a12b815b22');\n",
              "        const dataTable =\n",
              "          await google.colab.kernel.invokeFunction('convertToInteractive',\n",
              "                                                    [key], {});\n",
              "        if (!dataTable) return;\n",
              "\n",
              "        const docLinkHtml = 'Like what you see? Visit the ' +\n",
              "          '<a target=\"_blank\" href=https://colab.research.google.com/notebooks/data_table.ipynb>data table notebook</a>'\n",
              "          + ' to learn more about interactive tables.';\n",
              "        element.innerHTML = '';\n",
              "        dataTable['output_type'] = 'display_data';\n",
              "        await google.colab.output.renderOutput(dataTable, element);\n",
              "        const docLink = document.createElement('div');\n",
              "        docLink.innerHTML = docLinkHtml;\n",
              "        element.appendChild(docLink);\n",
              "      }\n",
              "    </script>\n",
              "  </div>\n",
              "\n",
              "\n",
              "    <div id=\"df-3a4b82d4-85e5-4ba4-aac1-368712538dfa\">\n",
              "      <button class=\"colab-df-quickchart\" onclick=\"quickchart('df-3a4b82d4-85e5-4ba4-aac1-368712538dfa')\"\n",
              "                title=\"Suggest charts\"\n",
              "                style=\"display:none;\">\n",
              "\n",
              "<svg xmlns=\"http://www.w3.org/2000/svg\" height=\"24px\"viewBox=\"0 0 24 24\"\n",
              "     width=\"24px\">\n",
              "    <g>\n",
              "        <path d=\"M19 3H5c-1.1 0-2 .9-2 2v14c0 1.1.9 2 2 2h14c1.1 0 2-.9 2-2V5c0-1.1-.9-2-2-2zM9 17H7v-7h2v7zm4 0h-2V7h2v10zm4 0h-2v-4h2v4z\"/>\n",
              "    </g>\n",
              "</svg>\n",
              "      </button>\n",
              "\n",
              "<style>\n",
              "  .colab-df-quickchart {\n",
              "      --bg-color: #E8F0FE;\n",
              "      --fill-color: #1967D2;\n",
              "      --hover-bg-color: #E2EBFA;\n",
              "      --hover-fill-color: #174EA6;\n",
              "      --disabled-fill-color: #AAA;\n",
              "      --disabled-bg-color: #DDD;\n",
              "  }\n",
              "\n",
              "  [theme=dark] .colab-df-quickchart {\n",
              "      --bg-color: #3B4455;\n",
              "      --fill-color: #D2E3FC;\n",
              "      --hover-bg-color: #434B5C;\n",
              "      --hover-fill-color: #FFFFFF;\n",
              "      --disabled-bg-color: #3B4455;\n",
              "      --disabled-fill-color: #666;\n",
              "  }\n",
              "\n",
              "  .colab-df-quickchart {\n",
              "    background-color: var(--bg-color);\n",
              "    border: none;\n",
              "    border-radius: 50%;\n",
              "    cursor: pointer;\n",
              "    display: none;\n",
              "    fill: var(--fill-color);\n",
              "    height: 32px;\n",
              "    padding: 0;\n",
              "    width: 32px;\n",
              "  }\n",
              "\n",
              "  .colab-df-quickchart:hover {\n",
              "    background-color: var(--hover-bg-color);\n",
              "    box-shadow: 0 1px 2px rgba(60, 64, 67, 0.3), 0 1px 3px 1px rgba(60, 64, 67, 0.15);\n",
              "    fill: var(--button-hover-fill-color);\n",
              "  }\n",
              "\n",
              "  .colab-df-quickchart-complete:disabled,\n",
              "  .colab-df-quickchart-complete:disabled:hover {\n",
              "    background-color: var(--disabled-bg-color);\n",
              "    fill: var(--disabled-fill-color);\n",
              "    box-shadow: none;\n",
              "  }\n",
              "\n",
              "  .colab-df-spinner {\n",
              "    border: 2px solid var(--fill-color);\n",
              "    border-color: transparent;\n",
              "    border-bottom-color: var(--fill-color);\n",
              "    animation:\n",
              "      spin 1s steps(1) infinite;\n",
              "  }\n",
              "\n",
              "  @keyframes spin {\n",
              "    0% {\n",
              "      border-color: transparent;\n",
              "      border-bottom-color: var(--fill-color);\n",
              "      border-left-color: var(--fill-color);\n",
              "    }\n",
              "    20% {\n",
              "      border-color: transparent;\n",
              "      border-left-color: var(--fill-color);\n",
              "      border-top-color: var(--fill-color);\n",
              "    }\n",
              "    30% {\n",
              "      border-color: transparent;\n",
              "      border-left-color: var(--fill-color);\n",
              "      border-top-color: var(--fill-color);\n",
              "      border-right-color: var(--fill-color);\n",
              "    }\n",
              "    40% {\n",
              "      border-color: transparent;\n",
              "      border-right-color: var(--fill-color);\n",
              "      border-top-color: var(--fill-color);\n",
              "    }\n",
              "    60% {\n",
              "      border-color: transparent;\n",
              "      border-right-color: var(--fill-color);\n",
              "    }\n",
              "    80% {\n",
              "      border-color: transparent;\n",
              "      border-right-color: var(--fill-color);\n",
              "      border-bottom-color: var(--fill-color);\n",
              "    }\n",
              "    90% {\n",
              "      border-color: transparent;\n",
              "      border-bottom-color: var(--fill-color);\n",
              "    }\n",
              "  }\n",
              "</style>\n",
              "\n",
              "      <script>\n",
              "        async function quickchart(key) {\n",
              "          const quickchartButtonEl =\n",
              "            document.querySelector('#' + key + ' button');\n",
              "          quickchartButtonEl.disabled = true;  // To prevent multiple clicks.\n",
              "          quickchartButtonEl.classList.add('colab-df-spinner');\n",
              "          try {\n",
              "            const charts = await google.colab.kernel.invokeFunction(\n",
              "                'suggestCharts', [key], {});\n",
              "          } catch (error) {\n",
              "            console.error('Error during call to suggestCharts:', error);\n",
              "          }\n",
              "          quickchartButtonEl.classList.remove('colab-df-spinner');\n",
              "          quickchartButtonEl.classList.add('colab-df-quickchart-complete');\n",
              "        }\n",
              "        (() => {\n",
              "          let quickchartButtonEl =\n",
              "            document.querySelector('#df-3a4b82d4-85e5-4ba4-aac1-368712538dfa button');\n",
              "          quickchartButtonEl.style.display =\n",
              "            google.colab.kernel.accessAllowed ? 'block' : 'none';\n",
              "        })();\n",
              "      </script>\n",
              "    </div>\n",
              "\n",
              "    </div>\n",
              "  </div>\n"
            ],
            "application/vnd.google.colaboratory.intrinsic+json": {
              "type": "dataframe",
              "summary": "{\n  \"name\": \"db_load(\\\"countries\",\n  \"rows\": 239,\n  \"fields\": [\n    {\n      \"column\": \"Unnamed: 0\",\n      \"properties\": {\n        \"dtype\": \"number\",\n        \"std\": 69,\n        \"min\": 0,\n        \"max\": 238,\n        \"num_unique_values\": 239,\n        \"samples\": [\n          24,\n          6,\n          93\n        ],\n        \"semantic_type\": \"\",\n        \"description\": \"\"\n      }\n    },\n    {\n      \"column\": \"country_id\",\n      \"properties\": {\n        \"dtype\": \"number\",\n        \"std\": 69,\n        \"min\": 1,\n        \"max\": 239,\n        \"num_unique_values\": 239,\n        \"samples\": [\n          25,\n          7,\n          94\n        ],\n        \"semantic_type\": \"\",\n        \"description\": \"\"\n      }\n    },\n    {\n      \"column\": \"name\",\n      \"properties\": {\n        \"dtype\": \"string\",\n        \"num_unique_values\": 239,\n        \"samples\": [\n          \"Bahamas\",\n          \"Netherlands Antilles\",\n          \"Heard Island and McDonald Islands\"\n        ],\n        \"semantic_type\": \"\",\n        \"description\": \"\"\n      }\n    },\n    {\n      \"column\": \"area\",\n      \"properties\": {\n        \"dtype\": \"number\",\n        \"std\": 1924139.8521283683,\n        \"min\": 0.4,\n        \"max\": 17075400.0,\n        \"num_unique_values\": 238,\n        \"samples\": [\n          261.0,\n          83859.0,\n          5130.0\n        ],\n        \"semantic_type\": \"\",\n        \"description\": \"\"\n      }\n    },\n    {\n      \"column\": \"national_day\",\n      \"properties\": {\n        \"dtype\": \"string\",\n        \"num_unique_values\": 148,\n        \"samples\": [\n          \"1991-09-09\",\n          \"1974-02-07\",\n          \"1979-10-27\"\n        ],\n        \"semantic_type\": \"\",\n        \"description\": \"\"\n      }\n    },\n    {\n      \"column\": \"country_code2\",\n      \"properties\": {\n        \"dtype\": \"string\",\n        \"num_unique_values\": 238,\n        \"samples\": [\n          \"KN\",\n          \"AT\",\n          \"TT\"\n        ],\n        \"semantic_type\": \"\",\n        \"description\": \"\"\n      }\n    },\n    {\n      \"column\": \"country_code3\",\n      \"properties\": {\n        \"dtype\": \"string\",\n        \"num_unique_values\": 239,\n        \"samples\": [\n          \"BHS\",\n          \"ANT\",\n          \"HMD\"\n        ],\n        \"semantic_type\": \"\",\n        \"description\": \"\"\n      }\n    },\n    {\n      \"column\": \"region_id\",\n      \"properties\": {\n        \"dtype\": \"number\",\n        \"std\": 6,\n        \"min\": 1,\n        \"max\": 25,\n        \"num_unique_values\": 25,\n        \"samples\": [\n          9,\n          17,\n          1\n        ],\n        \"semantic_type\": \"\",\n        \"description\": \"\"\n      }\n    }\n  ]\n}"
            }
          },
          "metadata": {},
          "execution_count": 4
        }
      ]
    },
    {
      "cell_type": "code",
      "source": [
        "from datetime import datetime\n",
        "def time():\n",
        "  return print(datetime.now())\n",
        "\n",
        "time()"
      ],
      "metadata": {
        "colab": {
          "base_uri": "https://localhost:8080/"
        },
        "id": "jlPha7kBxmMO",
        "outputId": "06e5c8b2-8698-4a02-adcb-958a5a7894d1"
      },
      "execution_count": 8,
      "outputs": [
        {
          "output_type": "stream",
          "name": "stdout",
          "text": [
            "2025-10-31 05:41:14.467774\n"
          ]
        }
      ]
    },
    {
      "cell_type": "code",
      "source": [
        "def asdf(*a):\n",
        "  idk=[]\n",
        "  for i in a:\n",
        "    idk.append(i)\n",
        "  return idk\n",
        "\n",
        "asdf(1,2,3,4)"
      ],
      "metadata": {
        "colab": {
          "base_uri": "https://localhost:8080/"
        },
        "id": "RjMsSDWqyMjk",
        "outputId": "2acc368d-21cb-4463-89a7-55e73f403f88"
      },
      "execution_count": 12,
      "outputs": [
        {
          "output_type": "execute_result",
          "data": {
            "text/plain": [
              "[1, 2, 3, 4]"
            ]
          },
          "metadata": {},
          "execution_count": 12
        }
      ]
    },
    {
      "cell_type": "code",
      "source": [
        "def qwer(**k):\n",
        "  return k\n",
        "\n",
        "qwer(a=1, b=2,c=3,d=4)"
      ],
      "metadata": {
        "colab": {
          "base_uri": "https://localhost:8080/"
        },
        "id": "HxcWZeUQyqrv",
        "outputId": "7c43e44b-0ee3-401d-c176-259f57f56a83"
      },
      "execution_count": 13,
      "outputs": [
        {
          "output_type": "execute_result",
          "data": {
            "text/plain": [
              "{'a': 1, 'b': 2, 'c': 3, 'd': 4}"
            ]
          },
          "metadata": {},
          "execution_count": 13
        }
      ]
    },
    {
      "cell_type": "code",
      "source": [],
      "metadata": {
        "id": "_btCcJvcyxwc"
      },
      "execution_count": null,
      "outputs": []
    },
    {
      "cell_type": "markdown",
      "source": [
        "#입력"
      ],
      "metadata": {
        "id": "bKsfm3S_y64W"
      }
    },
    {
      "cell_type": "code",
      "source": [
        "q = input(\"too sleepy? (y/n)\")\n",
        "q"
      ],
      "metadata": {
        "colab": {
          "base_uri": "https://localhost:8080/",
          "height": 54
        },
        "id": "b-gmsjs0y8dm",
        "outputId": "d5e55074-ab6c-41db-bebb-fcce63833301"
      },
      "execution_count": 14,
      "outputs": [
        {
          "name": "stdout",
          "output_type": "stream",
          "text": [
            "too sleepy? (y/n)y\n"
          ]
        },
        {
          "output_type": "execute_result",
          "data": {
            "text/plain": [
              "'y'"
            ],
            "application/vnd.google.colaboratory.intrinsic+json": {
              "type": "string"
            }
          },
          "metadata": {},
          "execution_count": 14
        }
      ]
    },
    {
      "cell_type": "code",
      "source": [
        "if q =='y' or'Y':\n",
        "  print(\"go to bed.\")\n",
        "elif q=='n' or 'N':\n",
        "  print(\"Whatever\")\n",
        "else:\n",
        "  print(\"just answer my question\")"
      ],
      "metadata": {
        "colab": {
          "base_uri": "https://localhost:8080/"
        },
        "id": "Q4SJcl5gzDTk",
        "outputId": "78b99332-7759-44f8-bcdf-842039b2d212"
      },
      "execution_count": 17,
      "outputs": [
        {
          "output_type": "stream",
          "name": "stdout",
          "text": [
            "go to bed.\n"
          ]
        }
      ]
    },
    {
      "cell_type": "code",
      "source": [],
      "metadata": {
        "id": "v2KeHh68zeE_"
      },
      "execution_count": null,
      "outputs": []
    },
    {
      "cell_type": "markdown",
      "source": [
        "#파일"
      ],
      "metadata": {
        "id": "PYa8gCSlzmcO"
      }
    },
    {
      "cell_type": "code",
      "source": [
        "f = open(\"test.txt\",'w')\n",
        "f.write(\"increased file size.\")\n",
        "f.close()"
      ],
      "metadata": {
        "id": "F3vtYbZtzoC-"
      },
      "execution_count": 22,
      "outputs": []
    },
    {
      "cell_type": "code",
      "source": [
        "f2 = open(\"countries.csv\",'w')\n",
        "f2.write(\"increased file size.\")\n",
        "f2.close"
      ],
      "metadata": {
        "colab": {
          "base_uri": "https://localhost:8080/"
        },
        "id": "AKruuFadzvfH",
        "outputId": "55feb0ba-10be-4691-b7e5-fc34b4dc123a"
      },
      "execution_count": 23,
      "outputs": [
        {
          "output_type": "execute_result",
          "data": {
            "text/plain": [
              "<function TextIOWrapper.close()>"
            ]
          },
          "metadata": {},
          "execution_count": 23
        }
      ]
    }
  ]
}