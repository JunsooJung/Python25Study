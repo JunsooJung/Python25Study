{
  "nbformat": 4,
  "nbformat_minor": 0,
  "metadata": {
    "colab": {
      "provenance": [],
      "authorship_tag": "ABX9TyPJyGRvLLKkGTV2VYV1HRqv",
      "include_colab_link": true
    },
    "kernelspec": {
      "name": "python3",
      "display_name": "Python 3"
    },
    "language_info": {
      "name": "python"
    }
  },
  "cells": [
    {
      "cell_type": "markdown",
      "metadata": {
        "id": "view-in-github",
        "colab_type": "text"
      },
      "source": [
        "<a href=\"https://colab.research.google.com/github/JunsooJung/Python25Study/blob/main/%EC%9E%90%EB%A3%8C%ED%98%95.ipynb\" target=\"_parent\"><img src=\"https://colab.research.google.com/assets/colab-badge.svg\" alt=\"Open In Colab\"/></a>"
      ]
    },
    {
      "cell_type": "code",
      "execution_count": 18,
      "metadata": {
        "colab": {
          "base_uri": "https://localhost:8080/"
        },
        "id": "Yln737Ni1MFg",
        "outputId": "c0d54016-0999-4ca8-c03d-ed46b7379784"
      },
      "outputs": [
        {
          "output_type": "stream",
          "name": "stdout",
          "text": [
            "123\n"
          ]
        },
        {
          "output_type": "execute_result",
          "data": {
            "text/plain": [
              "int"
            ]
          },
          "metadata": {},
          "execution_count": 18
        }
      ],
      "source": [
        "a = 123\n",
        "print(a)\n",
        "type(a)"
      ]
    },
    {
      "cell_type": "code",
      "source": [
        "b = 1.23\n",
        "print(b)\n",
        "type(b)"
      ],
      "metadata": {
        "colab": {
          "base_uri": "https://localhost:8080/"
        },
        "id": "0tNeLzZ84cWS",
        "outputId": "aa7a40e1-e764-4036-8606-d139cf464711"
      },
      "execution_count": 19,
      "outputs": [
        {
          "output_type": "stream",
          "name": "stdout",
          "text": [
            "1.23\n"
          ]
        },
        {
          "output_type": "execute_result",
          "data": {
            "text/plain": [
              "float"
            ]
          },
          "metadata": {},
          "execution_count": 19
        }
      ]
    },
    {
      "cell_type": "code",
      "source": [
        "c = 0o21\n",
        "print(c)\n",
        "type(c)"
      ],
      "metadata": {
        "colab": {
          "base_uri": "https://localhost:8080/"
        },
        "id": "aaAMxqeH4mVB",
        "outputId": "12891796-36b7-416b-c8ef-9cdec4a9d267"
      },
      "execution_count": 20,
      "outputs": [
        {
          "output_type": "stream",
          "name": "stdout",
          "text": [
            "17\n"
          ]
        },
        {
          "output_type": "execute_result",
          "data": {
            "text/plain": [
              "int"
            ]
          },
          "metadata": {},
          "execution_count": 20
        }
      ]
    },
    {
      "cell_type": "code",
      "source": [
        "d = 0x12\n",
        "print(d)\n",
        "type(d)"
      ],
      "metadata": {
        "colab": {
          "base_uri": "https://localhost:8080/"
        },
        "id": "LYMW3zLp4pWJ",
        "outputId": "45354325-ab62-40dc-dcad-8c332705276d"
      },
      "execution_count": 21,
      "outputs": [
        {
          "output_type": "stream",
          "name": "stdout",
          "text": [
            "18\n"
          ]
        },
        {
          "output_type": "execute_result",
          "data": {
            "text/plain": [
              "int"
            ]
          },
          "metadata": {},
          "execution_count": 21
        }
      ]
    },
    {
      "cell_type": "code",
      "source": [
        "print(a + b)\n",
        "print(b - c)\n",
        "print(c * d)\n",
        "print(d / a)"
      ],
      "metadata": {
        "colab": {
          "base_uri": "https://localhost:8080/"
        },
        "id": "3h-zz1Hw4ybR",
        "outputId": "eb9b091d-f999-49a6-be42-ff451c4486db"
      },
      "execution_count": 22,
      "outputs": [
        {
          "output_type": "stream",
          "name": "stdout",
          "text": [
            "124.23\n",
            "-15.77\n",
            "306\n",
            "0.14634146341463414\n"
          ]
        }
      ]
    },
    {
      "cell_type": "code",
      "source": [
        "a**b"
      ],
      "metadata": {
        "colab": {
          "base_uri": "https://localhost:8080/"
        },
        "id": "ryisnjyf5B0R",
        "outputId": "59f0cb68-b0b1-41ab-d0ca-a5c2db8307c9"
      },
      "execution_count": 23,
      "outputs": [
        {
          "output_type": "execute_result",
          "data": {
            "text/plain": [
              "372.0345614599967"
            ]
          },
          "metadata": {},
          "execution_count": 23
        }
      ]
    },
    {
      "cell_type": "code",
      "source": [
        "a % c"
      ],
      "metadata": {
        "colab": {
          "base_uri": "https://localhost:8080/"
        },
        "id": "Z2G2pBzV5DgZ",
        "outputId": "b6f538fa-4a69-417e-d58c-7b417c246688"
      },
      "execution_count": 27,
      "outputs": [
        {
          "output_type": "execute_result",
          "data": {
            "text/plain": [
              "4"
            ]
          },
          "metadata": {},
          "execution_count": 27
        }
      ]
    },
    {
      "cell_type": "code",
      "source": [
        "a // c"
      ],
      "metadata": {
        "colab": {
          "base_uri": "https://localhost:8080/"
        },
        "id": "4zQN8N2A5Qly",
        "outputId": "610931ac-26f3-4277-f47e-6c3563c509cd"
      },
      "execution_count": 28,
      "outputs": [
        {
          "output_type": "execute_result",
          "data": {
            "text/plain": [
              "7"
            ]
          },
          "metadata": {},
          "execution_count": 28
        }
      ]
    },
    {
      "cell_type": "code",
      "source": [
        "for i in range(10):\n",
        "    i+=1\n",
        "    print(i)"
      ],
      "metadata": {
        "colab": {
          "base_uri": "https://localhost:8080/"
        },
        "id": "tCWPxcr45XUx",
        "outputId": "b6aac083-e73b-4725-e027-a6128078d27c"
      },
      "execution_count": 30,
      "outputs": [
        {
          "output_type": "stream",
          "name": "stdout",
          "text": [
            "1\n",
            "2\n",
            "3\n",
            "4\n",
            "5\n",
            "6\n",
            "7\n",
            "8\n",
            "9\n",
            "10\n"
          ]
        }
      ]
    },
    {
      "cell_type": "code",
      "source": [
        "t1 = \"All my friends are toxic, all ambitionless.\"\n",
        "print(t1)"
      ],
      "metadata": {
        "colab": {
          "base_uri": "https://localhost:8080/"
        },
        "id": "AKWvqQSj5mLx",
        "outputId": "9ef4aa2d-76dd-434a-96a2-b5a58ac751b9"
      },
      "execution_count": 36,
      "outputs": [
        {
          "output_type": "stream",
          "name": "stdout",
          "text": [
            "All my friends are toxic, all ambitionless.\n"
          ]
        }
      ]
    },
    {
      "cell_type": "code",
      "source": [
        "t2 = \"\"\"So rude and always negative.\n",
        "I need new friends, but it's not that quick and easy\n",
        "Oh, I'm drowning, let me breathe.\n",
        "\"\"\"\n",
        "print(t2)"
      ],
      "metadata": {
        "colab": {
          "base_uri": "https://localhost:8080/"
        },
        "id": "ZklNPjmJ57sh",
        "outputId": "d9b339f6-488e-4e97-e636-ff5b408905ba"
      },
      "execution_count": 37,
      "outputs": [
        {
          "output_type": "stream",
          "name": "stdout",
          "text": [
            "So rude and always negative.\n",
            "I need new friends, but it's not that quick and easy\n",
            "Oh, I'm drowning, let me breathe.\n",
            "\n"
          ]
        }
      ]
    },
    {
      "cell_type": "code",
      "source": [
        "t3 = 'I\\'m better off all by myself'\n",
        "print(t3)"
      ],
      "metadata": {
        "colab": {
          "base_uri": "https://localhost:8080/"
        },
        "id": "oZm50A426RQh",
        "outputId": "70504306-1911-4d20-bf8c-224ee0de4698"
      },
      "execution_count": 38,
      "outputs": [
        {
          "output_type": "stream",
          "name": "stdout",
          "text": [
            "I'm better off all by myself\n"
          ]
        }
      ]
    },
    {
      "cell_type": "code",
      "source": [
        "t4 = \"Though I'm feeling kinda empty without somebody else\\nOh, I hear you crying out for help\"\n",
        "print(t4)"
      ],
      "metadata": {
        "colab": {
          "base_uri": "https://localhost:8080/"
        },
        "id": "4-YtDgj06YMi",
        "outputId": "ee00b475-d78e-4bd1-dd76-e7e89d8d73f4"
      },
      "execution_count": 39,
      "outputs": [
        {
          "output_type": "stream",
          "name": "stdout",
          "text": [
            "Though I'm feeling kinda empty without somebody else\n",
            "Oh, I hear you crying out for help\n"
          ]
        }
      ]
    },
    {
      "cell_type": "code",
      "source": [
        "t5 = \"I'm drowning, let me breathe\\n\"\n",
        "print(t5*4)"
      ],
      "metadata": {
        "colab": {
          "base_uri": "https://localhost:8080/"
        },
        "id": "f_-w0_sR6hkJ",
        "outputId": "af533f32-25bc-4e02-cd6f-15ecc038ade3"
      },
      "execution_count": 40,
      "outputs": [
        {
          "output_type": "stream",
          "name": "stdout",
          "text": [
            "I'm drowning, let me breathe\n",
            "I'm drowning, let me breathe\n",
            "I'm drowning, let me breathe\n",
            "I'm drowning, let me breathe\n",
            "\n"
          ]
        }
      ]
    },
    {
      "cell_type": "code",
      "source": [
        "t6 = \"But you never showed for me when I was ringing your cellphone\"\n",
        "len(t6)"
      ],
      "metadata": {
        "colab": {
          "base_uri": "https://localhost:8080/"
        },
        "id": "iHOBY6fz6vRp",
        "outputId": "151a46a4-30cd-468b-8737-ce7b52796567"
      },
      "execution_count": 41,
      "outputs": [
        {
          "output_type": "execute_result",
          "data": {
            "text/plain": [
              "61"
            ]
          },
          "metadata": {},
          "execution_count": 41
        }
      ]
    },
    {
      "cell_type": "code",
      "source": [
        "t7=\"Oh, you don't know how it feels to be alone\"\n",
        "print(t7[4:13])"
      ],
      "metadata": {
        "colab": {
          "base_uri": "https://localhost:8080/"
        },
        "id": "3hLORN8P6zhp",
        "outputId": "b268fd90-dc17-4dd7-da20-b271888511e8"
      },
      "execution_count": 43,
      "outputs": [
        {
          "output_type": "stream",
          "name": "stdout",
          "text": [
            "you don't\n"
          ]
        }
      ]
    },
    {
      "cell_type": "code",
      "source": [
        "\"Baby, %s, I'll make you know, I'll make you know, %s\" % (\"oh\",\"oh\")"
      ],
      "metadata": {
        "colab": {
          "base_uri": "https://localhost:8080/",
          "height": 35
        },
        "id": "mzMiHfB17GWZ",
        "outputId": "8f67bc2f-be53-4144-f341-2f7c54b9d9e4"
      },
      "execution_count": 48,
      "outputs": [
        {
          "output_type": "execute_result",
          "data": {
            "text/plain": [
              "\"Baby, oh, I'll make you know, I'll make you know, oh\""
            ],
            "application/vnd.google.colaboratory.intrinsic+json": {
              "type": "string"
            }
          },
          "metadata": {},
          "execution_count": 48
        }
      ]
    },
    {
      "cell_type": "code",
      "source": [
        "t7.find('you')"
      ],
      "metadata": {
        "colab": {
          "base_uri": "https://localhost:8080/"
        },
        "id": "oFfAxTOk7grq",
        "outputId": "aac3cf2f-bb14-4664-d1b5-053f9581e8c5"
      },
      "execution_count": 49,
      "outputs": [
        {
          "output_type": "execute_result",
          "data": {
            "text/plain": [
              "4"
            ]
          },
          "metadata": {},
          "execution_count": 49
        }
      ]
    },
    {
      "cell_type": "code",
      "source": [
        "t7.count(\"o\")"
      ],
      "metadata": {
        "colab": {
          "base_uri": "https://localhost:8080/"
        },
        "id": "R3qCKr0jBZeb",
        "outputId": "dcb8aecd-e3f7-42c2-f6b0-230c49ca66b9"
      },
      "execution_count": 50,
      "outputs": [
        {
          "output_type": "execute_result",
          "data": {
            "text/plain": [
              "6"
            ]
          },
          "metadata": {},
          "execution_count": 50
        }
      ]
    },
    {
      "cell_type": "code",
      "source": [
        "dic = {\"name\" : \"boyswithuke\",\"song\" : \"Toxic\"}\n",
        "f\"But {dic['name']} is immaculate, backin' it up a bit {dic['song']}\"\n"
      ],
      "metadata": {
        "colab": {
          "base_uri": "https://localhost:8080/",
          "height": 35
        },
        "id": "yygDQri8Bdyj",
        "outputId": "abec381d-558e-4558-c26c-88d722af2b3f"
      },
      "execution_count": 51,
      "outputs": [
        {
          "output_type": "execute_result",
          "data": {
            "text/plain": [
              "\"But boyswithuke is immaculate, backin' it up a bit Toxic\""
            ],
            "application/vnd.google.colaboratory.intrinsic+json": {
              "type": "string"
            }
          },
          "metadata": {},
          "execution_count": 51
        }
      ]
    },
    {
      "cell_type": "code",
      "source": [
        "t7.upper()"
      ],
      "metadata": {
        "colab": {
          "base_uri": "https://localhost:8080/",
          "height": 35
        },
        "id": "oQJzvM6oCQXb",
        "outputId": "d5279f1f-5435-405a-9d76-a12971279306"
      },
      "execution_count": 52,
      "outputs": [
        {
          "output_type": "execute_result",
          "data": {
            "text/plain": [
              "\"OH, YOU DON'T KNOW HOW IT FEELS TO BE ALONE\""
            ],
            "application/vnd.google.colaboratory.intrinsic+json": {
              "type": "string"
            }
          },
          "metadata": {},
          "execution_count": 52
        }
      ]
    },
    {
      "cell_type": "code",
      "source": [
        "text = ' bell \\a'\n",
        "print(text)"
      ],
      "metadata": {
        "colab": {
          "base_uri": "https://localhost:8080/"
        },
        "id": "iq5-grsp1QaA",
        "outputId": "ad89e999-8074-437a-85b3-c20b3193a791"
      },
      "execution_count": 24,
      "outputs": [
        {
          "output_type": "stream",
          "name": "stdout",
          "text": [
            " bell \u0007\n"
          ]
        }
      ]
    }
  ]
}